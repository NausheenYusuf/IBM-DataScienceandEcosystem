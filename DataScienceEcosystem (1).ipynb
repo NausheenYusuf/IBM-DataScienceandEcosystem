{
 "cells": [
  {
   "cell_type": "markdown",
   "id": "e54973ee",
   "metadata": {},
   "source": [
    "# Data Science Tools and Ecosystem"
   ]
  },
  {
   "cell_type": "markdown",
   "id": "448351a6",
   "metadata": {},
   "source": [
    " In this notebook, Data Science Tools and Ecosystem are summarized."
   ]
  },
  {
   "cell_type": "markdown",
   "id": "a37ed1d7",
   "metadata": {},
   "source": [
    "**Objectives:**\n",
    "*  Popular Data Science languages\n",
    "*  Libraries Of Data Science\n",
    "*  IDE"
   ]
  },
  {
   "cell_type": "markdown",
   "id": "c5c18220",
   "metadata": {},
   "source": [
    "Some of the popular languages that Data Scientists use are:\n",
    "\n",
    "1.  Python\n",
    "2.  R\n",
    "3.  Scala\n"
   ]
  },
  {
   "cell_type": "markdown",
   "id": "15ffa306",
   "metadata": {},
   "source": [
    "Some of the commonly used libraries used by Data Scientists include:\n",
    "1.  Numpy\n",
    "2.  Pandas\n",
    "3.  Scikit\n"
   ]
  },
  {
   "cell_type": "markdown",
   "id": "f754d688",
   "metadata": {},
   "source": [
    "| Data Science Tools|\n",
    "| --- |\n",
    "| Colab |\n",
    "| Apache Spark|\n",
    "| R Studio|"
   ]
  },
  {
   "cell_type": "markdown",
   "id": "7e5f4621",
   "metadata": {},
   "source": [
    "### Below are a few examples of evaluating arithmetic expressions in Python"
   ]
  },
  {
   "cell_type": "code",
   "execution_count": 2,
   "id": "476c8cf4",
   "metadata": {},
   "outputs": [
    {
     "data": {
      "text/plain": [
       "17"
      ]
     },
     "execution_count": 2,
     "metadata": {},
     "output_type": "execute_result"
    }
   ],
   "source": [
    "#This a simple arithmetic expression to mutiply then add integers\n",
    "(3*4)+5"
   ]
  },
  {
   "cell_type": "code",
   "execution_count": 5,
   "id": "cacbaaa8",
   "metadata": {},
   "outputs": [
    {
     "name": "stdout",
     "output_type": "stream",
     "text": [
      "200 minutes = 3.33 hours\n"
     ]
    }
   ],
   "source": [
    "#This will convert 200 minutes to hours by diving by 60\n",
    "200/60\n",
    "print(f\"200 minutes = {200/60:.2f} hours\")"
   ]
  },
  {
   "cell_type": "markdown",
   "id": "742b4dfa",
   "metadata": {},
   "source": [
    "## AUTHOR\n",
    "Nausheen Yusuf"
   ]
  },
  {
   "cell_type": "code",
   "execution_count": null,
   "id": "c0a4fe95",
   "metadata": {},
   "outputs": [],
   "source": []
  }
 ],
 "metadata": {
  "kernelspec": {
   "display_name": "Python 3 (ipykernel)",
   "language": "python",
   "name": "python3"
  },
  "language_info": {
   "codemirror_mode": {
    "name": "ipython",
    "version": 3
   },
   "file_extension": ".py",
   "mimetype": "text/x-python",
   "name": "python",
   "nbconvert_exporter": "python",
   "pygments_lexer": "ipython3",
   "version": "3.10.9"
  }
 },
 "nbformat": 4,
 "nbformat_minor": 5
}
